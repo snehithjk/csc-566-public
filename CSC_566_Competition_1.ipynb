{
  "nbformat": 4,
  "nbformat_minor": 0,
  "metadata": {
    "colab": {
      "provenance": [],
      "collapsed_sections": [
        "WkC7n1rhtl7q",
        "SHMLUOPGWzcE"
      ],
      "include_colab_link": true
    },
    "kernelspec": {
      "name": "python3",
      "display_name": "Python 3"
    },
    "language_info": {
      "name": "python"
    }
  },
  "cells": [
    {
      "cell_type": "markdown",
      "metadata": {
        "id": "view-in-github",
        "colab_type": "text"
      },
      "source": [
        "<a href=\"https://colab.research.google.com/github/snehithjk/csc-566-public/blob/main/CSC_566_Competition_1.ipynb\" target=\"_parent\"><img src=\"https://colab.research.google.com/assets/colab-badge.svg\" alt=\"Open In Colab\"/></a>"
      ]
    },
    {
      "cell_type": "markdown",
      "source": [
        "# BENCHMARK ONE TEST\n",
        "## NAME: [Your Name]\n"
      ],
      "metadata": {
        "id": "R96oB3net1UT"
      }
    },
    {
      "cell_type": "markdown",
      "source": [
        "## Instructions\n",
        "1. Copy the model you want to use in the cell below.\n",
        "2. Under create_model(), change the return value into your model with any parameter’s default value.\n",
        "3. Save and share the link (Please make it viewable for anyone with the link) in the google form.\n",
        "\n",
        "\n",
        "## Rules\n",
        "- Your model must complete the test suit under 7 minutes.\n",
        "- The model must have a `fit` and `predict` method.\n",
        "- The `fit` and `predict` methods should work with Pandas DataFrames/Series\n",
        "\n",
        "\n",
        "Dataset lengths (rows):  {'video_games': 16663, 'life': 2928, 'flare': 1066}\n"
      ],
      "metadata": {
        "id": "vzQ0z2DSFq8K"
      }
    },
    {
      "cell_type": "markdown",
      "source": [
        "## *TODO*: Put your model code in the cell under "
      ],
      "metadata": {
        "id": "PwzsmKrDOFod"
      }
    },
    {
      "cell_type": "code",
      "source": [
        "from sklearn.base import BaseEstimator, RegressorMixin\n",
        "from sklearn.utils import resample\n",
        "from sklearn.metrics import mean_absolute_error\n",
        "import numpy as np\n",
        "import pandas as pd\n",
        "#import other libs you use...\n",
        "class ExampleRegressor:\n",
        "  pass\n",
        "#your model:"
      ],
      "metadata": {
        "id": "o4Qzps8oN5yJ"
      },
      "execution_count": null,
      "outputs": []
    },
    {
      "cell_type": "markdown",
      "source": [
        "## *TODO*: Initialize your model with parameters"
      ],
      "metadata": {
        "id": "F7mRILeiOzB2"
      }
    },
    {
      "cell_type": "code",
      "source": [
        "def create_model() -> RegressorMixin:\n",
        "  \"\"\"\n",
        "  Put any initialization logic for your model in this function.\n",
        "  No need to `fit` or `predict`\n",
        "  Initialize with all hyperparameters here\n",
        "  Returns the initialized model\n",
        "  \"\"\"\n",
        "\n",
        "  return ExampleRegressor(hyperparameter=\"something\")"
      ],
      "metadata": {
        "id": "P5Ta2JF5vM2Y"
      },
      "execution_count": null,
      "outputs": []
    },
    {
      "cell_type": "markdown",
      "source": [
        "## Get Data"
      ],
      "metadata": {
        "id": "WkC7n1rhtl7q"
      }
    },
    {
      "cell_type": "code",
      "source": [
        "# Downloading the datasets\n",
        "!wget -q https://raw.githubusercontent.com/michaelmoschitto/benchmark-team-2/main/data/video_games_data.csv\n",
        "!wget -q https://raw.githubusercontent.com/michaelmoschitto/benchmark-team-2/main/data/life_expectancy_data.csv"
      ],
      "metadata": {
        "id": "pNkjQZeevInl"
      },
      "execution_count": null,
      "outputs": []
    },
    {
      "cell_type": "code",
      "execution_count": null,
      "metadata": {
        "id": "JvOk8QHhtESx"
      },
      "outputs": [],
      "source": [
        "# Imports\n",
        "import sklearn\n",
        "import pandas as pd\n",
        "import numpy as np"
      ]
    },
    {
      "cell_type": "markdown",
      "source": [
        "### Preprocessing Functions"
      ],
      "metadata": {
        "id": "BWRK6DLfWWCW"
      }
    },
    {
      "cell_type": "code",
      "source": [
        "def preprocess_video_games_df(path_to_video_games_csv):\n",
        "  \"\"\"\n",
        "  This function will preprocesses the video games DF and returns the entire \n",
        "  X and y dataframes. \n",
        "\n",
        "  Input:\n",
        "    path_to_video_games_csv (string): Path to csv\n",
        "  Output:\n",
        "    (X, y): Tuple of dataframes\n",
        "      -> X : Dataframe with 5 columns of String Type\n",
        "      -> y : Series with 1 column of float64 type\n",
        "  \"\"\"\n",
        "\n",
        "  df = pd.read_csv(path_to_video_games_csv)\n",
        "  df = df.drop(['NA_Sales', 'EU_Sales', 'JP_Sales', 'Other_Sales', 'Critic_Score',\n",
        "            'Critic_Count', 'User_Score', 'User_Count', 'Developer', 'Rating'], axis=1)\n",
        "  \n",
        "  # Set the year to categorical\n",
        "  df['Year_of_Release'] = df['Year_of_Release'].apply(str)\n",
        "\n",
        "  # Get rid of na rows\n",
        "  df.dropna(inplace=True)\n",
        "\n",
        "  # Set target variable\n",
        "  y = df.pop('Global_Sales')\n",
        "  return df, y"
      ],
      "metadata": {
        "id": "Zk3x5cfrWVQG"
      },
      "execution_count": null,
      "outputs": []
    },
    {
      "cell_type": "code",
      "source": [
        "def preprocess_life_df(path_to_life_csv):\n",
        "  \"\"\"\n",
        "  This function will preprocesses the life expectancy DF and returns the \n",
        "  X and y dataframes. \n",
        "\n",
        "  Input:\n",
        "    path_to_life_csv (string): Path to csv\n",
        "  Output:\n",
        "    (X, y): Tuple of dataframes\n",
        "      -> X : Dataframe with 7 columns of String Type\n",
        "      -> y : Series with 1 column of float64 type\n",
        "  \"\"\"\n",
        "  df = pd.read_csv(path_to_life_csv)\n",
        "\n",
        "  # get y attrib\n",
        "  y = df['Life expectancy ']\n",
        "\n",
        "  # Type fixing\n",
        "  df['Country'] = df['Country'].astype(str)\n",
        "  df['Year'] = df['Year'].apply(str)\n",
        "  df['Status'] = df['Status'].astype(str)\n",
        "\n",
        "  # convert numerics to ranges\n",
        "  per1000_bins = [i for i in range(0, 1001, 100)]\n",
        "  per1000_labels = ['({i}-{j}]'.format(i=i, j=i+100) for i in per1000_bins[:-1]]\n",
        "  per100_bins = [i for i in range(0, 101, 10)]\n",
        "  per100_labels = ['({i}-{j}]'.format(i=i, j=i+10) for i in per100_bins[:-1]]\n",
        "  per1_bins = [round(x * 0.1, 1) for x in range(0, 11)]\n",
        "  per1_labels = ['({i}-{j}]'.format(i=i, j=round(i+.1, 1)) for i in per1_bins[:-1]]\n",
        "  \n",
        "  df['Adult Mortality'] = pd.cut(df['Adult Mortality'], bins=per1000_bins, \n",
        "                                 labels=per1000_labels).astype(str)\n",
        "  df['Hepatitis B %immun'] = pd.cut(df['Hepatitis B'], bins=per100_bins, \n",
        "                                 labels=per100_labels).astype(str)\n",
        "  df['BMI'] = pd.cut(df[' BMI '], bins=per100_bins, \n",
        "                                 labels=per100_labels).astype(str)\n",
        "  df['Polio %immun'] = pd.cut(df['Polio'], bins=per100_bins, \n",
        "                                 labels=per100_labels).astype(str)\n",
        "  df['Diphtheria %immun'] = pd.cut(df['Diphtheria '], bins=per100_bins, \n",
        "                                 labels=per100_labels).astype(str)\n",
        "  df['Income composition of resources'] = pd.cut(df['Income composition of resources'], bins=per1_bins, \n",
        "                                 labels=per1_labels).astype(str)\n",
        "  \n",
        "  # selected features\n",
        "  features = ['Country', 'Year', 'Status', 'Adult Mortality', 'Hepatitis B %immun',\n",
        "              'BMI', 'Polio %immun', 'Diphtheria %immun', 'Income composition of resources', 'Life expectancy ']\n",
        "\n",
        "  # only keeping main features\n",
        "  df = df.loc[:,features]\n",
        "\n",
        "  # drop missing values\n",
        "  df = df.dropna()\n",
        "  y_feature = \"Life expectancy \"\n",
        "  y = df[y_feature]\n",
        "  df = df.drop(y_feature, axis=1)\n",
        "  return df, y"
      ],
      "metadata": {
        "id": "O8A8U3A6XBST"
      },
      "execution_count": null,
      "outputs": []
    },
    {
      "cell_type": "code",
      "source": [
        "def preprocess_flare_df(**kwargs):\n",
        "  df = pd.read_csv(kwargs['link'], sep=kwargs['sep'], names=kwargs['names'])\n",
        "\n",
        "  # drop this because there is no variance\n",
        "  df = df.drop(columns=['largest-spotarea'])\n",
        "\n",
        "  # drop missing values\n",
        "  df = df.dropna()\n",
        "\n",
        "  # get y attrib\n",
        "  y = df.pop('C')\n",
        "  \n",
        "  return df, y"
      ],
      "metadata": {
        "id": "Qhm70uxQKCVc"
      },
      "execution_count": null,
      "outputs": []
    },
    {
      "cell_type": "code",
      "source": [
        "# Get data\n",
        "datasets = {\n",
        "    \"video_games\": preprocess_video_games_df('/content/video_games_data.csv'),\n",
        "    \"life\": preprocess_life_df('/content/life_expectancy_data.csv'),\n",
        "    \"flare\": preprocess_flare_df(link='https://archive.ics.uci.edu/ml/machine-learning-databases/solar-flare/flare.data2', sep=\" \", \n",
        "                names = ['class','size','spot','activity','evolution','prev24hr','histcomplex','histcomplexsundisk','area','largest-spotarea','C'])\n",
        "}\n",
        "\n",
        "print(\"Dataset lengths: \", {name: len(ds[0]) for name, ds in datasets.items()})"
      ],
      "metadata": {
        "id": "ojMq1nlUuUkQ",
        "colab": {
          "base_uri": "https://localhost:8080/"
        },
        "outputId": "c02d844e-f84f-464c-87fc-aeef675291a3"
      },
      "execution_count": null,
      "outputs": [
        {
          "output_type": "stream",
          "name": "stdout",
          "text": [
            "Dataset lengths:  {'video_games': 16663, 'life': 2928, 'flare': 1066}\n"
          ]
        }
      ]
    },
    {
      "cell_type": "markdown",
      "source": [
        "## Testing"
      ],
      "metadata": {
        "id": "SHMLUOPGWzcE"
      }
    },
    {
      "cell_type": "markdown",
      "source": [
        "### Accuracy\n",
        "Measures the train and test loss between actual values and predicted values using **Mean Squared Error**\n",
        "\n",
        "### Performance\n",
        "Measures the amount of time it takes to `fit` and `predict` with your model."
      ],
      "metadata": {
        "id": "5-PXKLREuZuA"
      }
    },
    {
      "cell_type": "code",
      "source": [
        "# Testing Parameters\n",
        "SEED = 42\n",
        "TEST_SIZE = 0.2\n",
        "TIMING_ITERATIONS = 3"
      ],
      "metadata": {
        "id": "k7GnSwaA1HDG"
      },
      "execution_count": null,
      "outputs": []
    },
    {
      "cell_type": "code",
      "source": [
        "from sklearn.metrics import mean_squared_error\n",
        "from sklearn.model_selection import train_test_split\n",
        "import timeit\n",
        "np.random.seed(SEED)\n",
        "results = {}\n",
        "\n",
        "for dataset_name, (X,y) in datasets.items():\n",
        "  n_iterations = 1 if dataset_name == \"video_games\" else TIMING_ITERATIONS\n",
        "  model = create_model()\n",
        "  x_train, x_test, y_train, y_test = train_test_split(X,y, test_size=TEST_SIZE, random_state=SEED, shuffle=True)\n",
        "  preds = None\n",
        "  def benchmark():\n",
        "      global preds\n",
        "      model.fit(x_train, y_train)\n",
        "      preds = model.predict(x_test)\n",
        "  perf = (\n",
        "      timeit.timeit(\n",
        "          benchmark, number=n_iterations\n",
        "      )\n",
        "      / n_iterations\n",
        "  )\n",
        "  results[dataset_name] = {\"mse\": mean_squared_error(y_test, preds), \"time/s\": perf}\n",
        "\n",
        "print(\"Results: \", results)\n"
      ],
      "metadata": {
        "id": "_TcEi9oxwT3J",
        "colab": {
          "base_uri": "https://localhost:8080/"
        },
        "outputId": "500d3080-01da-4fd3-fff3-37309dc6ba60"
      },
      "execution_count": null,
      "outputs": [
        {
          "output_type": "stream",
          "name": "stdout",
          "text": [
            "Results:  {'video_games': {'mse': 4.2254189512510925, 'time': 340.2908347370003}, 'life': {'mse': 7.579101963786914, 'time': 6.352132163333408}, 'flare': {'mse': 0.6467976632721417, 'time': 0.5988086340000033}}\n"
          ]
        }
      ]
    },
    {
      "cell_type": "code",
      "source": [],
      "metadata": {
        "id": "ikw9jhsaFVSx"
      },
      "execution_count": null,
      "outputs": []
    }
  ]
}